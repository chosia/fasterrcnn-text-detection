{
 "cells": [
  {
   "cell_type": "code",
   "execution_count": null,
   "id": "0632e29a",
   "metadata": {},
   "outputs": [],
   "source": [
    "from fastai.vision.all import *\n",
    "\n",
    "import pandas as pd"
   ]
  },
  {
   "cell_type": "code",
   "execution_count": null,
   "id": "72559473",
   "metadata": {},
   "outputs": [],
   "source": [
    "data_path = Path('/home/tanul/torchenv/data/tiles') #todo: move this out to /4TB\n",
    "data_path.ls()"
   ]
  },
  {
   "cell_type": "code",
   "execution_count": null,
   "id": "0bd3014a",
   "metadata": {},
   "outputs": [],
   "source": [
    "LABELS_FILE = '/home/gosia/text-detection-internships/FasterRCNN Pipeline/train.csv'\n",
    "labels_df = pd.read_csv(LABELS_FILE)\n",
    "labels_df"
   ]
  },
  {
   "cell_type": "code",
   "execution_count": null,
   "id": "4c8885c4",
   "metadata": {},
   "outputs": [],
   "source": [
    "labels_df.label.unique()"
   ]
  },
  {
   "cell_type": "code",
   "execution_count": null,
   "id": "62858bca",
   "metadata": {},
   "outputs": [],
   "source": [
    "labels_df.loc[labels_df['label'] == ']']"
   ]
  },
  {
   "cell_type": "code",
   "execution_count": null,
   "id": "ac70f6a8",
   "metadata": {},
   "outputs": [],
   "source": [
    "def df_to_dict(df):\n",
    "    out = {}\n",
    "    for idx, row in df.iterrows():\n",
    "        fname = row['image_id']\n",
    "        annot = out.get(fname, ([], []))\n",
    "        annot[0].append([row['xmin'], row['xmax'], row['ymin'], row['ymax']])\n",
    "        annot[1].append(row['label'])\n",
    "        out[fname] = (annot)\n",
    "    return out"
   ]
  },
  {
   "cell_type": "code",
   "execution_count": null,
   "id": "6d683673",
   "metadata": {},
   "outputs": [],
   "source": [
    "img2bbox = df_to_dict(labels_df)\n",
    "img2bbox"
   ]
  },
  {
   "cell_type": "code",
   "execution_count": null,
   "id": "d096d8fc",
   "metadata": {},
   "outputs": [],
   "source": [
    "dblocks = DataBlock(blocks=(ImageBlock, BBoxBlock, BBoxLblBlock),\n",
    "                    splitter=RandomSplitter(),\n",
    "                    get_items=get_image_files,\n",
    "                    get_y=[lambda o: img2bbox[o.name][0], lambda o: img2bbox[o.name][1]],\n",
    "                    n_inp=1\n",
    "                   )"
   ]
  },
  {
   "cell_type": "code",
   "execution_count": null,
   "id": "d9a91d3a",
   "metadata": {},
   "outputs": [],
   "source": [
    "dls = dblocks.dataloaders(data_path)"
   ]
  },
  {
   "cell_type": "code",
   "execution_count": null,
   "id": "0ff0c1b5",
   "metadata": {},
   "outputs": [],
   "source": [
    "dblocks.summary(data_path)"
   ]
  },
  {
   "cell_type": "code",
   "execution_count": null,
   "id": "de8a9cf1",
   "metadata": {},
   "outputs": [],
   "source": [
    "dls.show_batch()"
   ]
  },
  {
   "cell_type": "code",
   "execution_count": null,
   "id": "9ef58b6e",
   "metadata": {},
   "outputs": [],
   "source": []
  }
 ],
 "metadata": {
  "kernelspec": {
   "display_name": "Python 3",
   "language": "python",
   "name": "python3"
  },
  "language_info": {
   "codemirror_mode": {
    "name": "ipython",
    "version": 3
   },
   "file_extension": ".py",
   "mimetype": "text/x-python",
   "name": "python",
   "nbconvert_exporter": "python",
   "pygments_lexer": "ipython3",
   "version": "3.8.8"
  }
 },
 "nbformat": 4,
 "nbformat_minor": 5
}
